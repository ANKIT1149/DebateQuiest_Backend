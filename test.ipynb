{
 "cells": [
  {
   "cell_type": "code",
   "execution_count": 1,
   "id": "e3ce9be9",
   "metadata": {},
   "outputs": [
    {
     "ename": "ImportError",
     "evalue": "cannot import name 'Prisma' from 'prisma' (unknown location)",
     "output_type": "error",
     "traceback": [
      "\u001b[31m---------------------------------------------------------------------------\u001b[39m",
      "\u001b[31mImportError\u001b[39m                               Traceback (most recent call last)",
      "\u001b[36mCell\u001b[39m\u001b[36m \u001b[39m\u001b[32mIn[1]\u001b[39m\u001b[32m, line 1\u001b[39m\n\u001b[32m----> \u001b[39m\u001b[32m1\u001b[39m \u001b[38;5;28;01mfrom\u001b[39;00m\u001b[38;5;250m \u001b[39m\u001b[34;01mprisma\u001b[39;00m\u001b[38;5;250m \u001b[39m\u001b[38;5;28;01mimport\u001b[39;00m Prisma\n\u001b[32m      2\u001b[39m \u001b[38;5;28;01mfrom\u001b[39;00m\u001b[38;5;250m \u001b[39m\u001b[34;01mmodels\u001b[39;00m\u001b[34;01m.\u001b[39;00m\u001b[34;01mRegisterModel\u001b[39;00m\u001b[38;5;250m \u001b[39m\u001b[38;5;28;01mimport\u001b[39;00m RegisterModel\n\u001b[32m      5\u001b[39m \u001b[38;5;28;01masync\u001b[39;00m \u001b[38;5;28;01mdef\u001b[39;00m\u001b[38;5;250m \u001b[39m\u001b[34mregister_userdata\u001b[39m(user: RegisterModel):\n",
      "\u001b[31mImportError\u001b[39m: cannot import name 'Prisma' from 'prisma' (unknown location)"
     ]
    }
   ],
   "source": [
    "\n",
    "from prisma import Prisma\n",
    "from models.RegisterModel import RegisterModel\n",
    "\n",
    "\n",
    "async def register_userdata(user: RegisterModel):\n",
    "    prisma = Prisma()\n",
    "    try:\n",
    "        await prisma.connect()\n",
    "        existing_user = await prisma.user.find_first(where={\"email\": user.email})\n",
    "        if existing_user:\n",
    "            return {\"message\": \"User already exists\", \"status\": 400}\n",
    "        created_user = await prisma.user.create(\n",
    "            data={\n",
    "                \"clerk_id\": user.clerk_id,\n",
    "                \"username\": user.username,\n",
    "                \"email\": user.email,\n",
    "                \"password\": user.password,\n",
    "                \"imageUrl\": user.imageUrl,\n",
    "            }\n",
    "        )\n",
    "        return {\n",
    "            \"message\": \"User created successfully\",\n",
    "            \"status\": 201,\n",
    "            \"data\": created_user,\n",
    "        }\n",
    "    except Exception as error:\n",
    "        print(f\"Prisma error: {error}\")\n",
    "        return {\"message\": f\"Failed to register user: {error}\", \"status\": 400}\n",
    "    except Exception as error:\n",
    "        print(f\"Unexpected error: {error}\")\n",
    "        return {\"message\": f\"Unexpected error: {error}\", \"status\": 500}\n",
    "    finally:\n",
    "        await prisma.disconnect()\n"
   ]
  }
 ],
 "metadata": {
  "kernelspec": {
   "display_name": "venv",
   "language": "python",
   "name": "python3"
  },
  "language_info": {
   "codemirror_mode": {
    "name": "ipython",
    "version": 3
   },
   "file_extension": ".py",
   "mimetype": "text/x-python",
   "name": "python",
   "nbconvert_exporter": "python",
   "pygments_lexer": "ipython3",
   "version": "3.11.6"
  }
 },
 "nbformat": 4,
 "nbformat_minor": 5
}
